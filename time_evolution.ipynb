{
 "cells": [
  {
   "cell_type": "code",
   "execution_count": null,
   "metadata": {},
   "outputs": [],
   "source": [
    "%run circuit_dynamics_init.py # all needed functions \n",
    "import matplotlib.pyplot as plt\n",
    "%matplotlib inline\n",
    "%config InlineBackend.figure_format ='retina' #plot high-res img \n",
    "%load_ext line_profiler # line profiler"
   ]
  },
  {
   "cell_type": "markdown",
   "metadata": {},
   "source": [
    "### Possible parallel strategy: \n",
    "\n",
    "i) because the order dot product of different $U_n$ matrices with psi\n",
    "is not relevant, we can generate $L/2$ #s of $U_n$ parallelly and send back to the master rank.\n",
    "but we still have to apply the dot product sequentially in order to update the wavefunction \n",
    "in a recursive manner\n",
    "        \n",
    "ii) using a more low level approach by paralleling the kronecker product using MPI.\n",
    "        \n",
    "iii) Since we know the sparse matrix will be block diagonal \n",
    "with identical blocks, i.e., for each i, un = np.repeat\\[blk, $2^{2*i}$ \\],\n",
    "where all blocks take the form $\\textrm{blk}=\\textrm{kron}(u, \\textrm{identity_mat}(2^{(L-2i-2)}$)\n",
    "\n",
    "\n",
    "it's easy to perform parallel dot operations by extracting different portions of \n",
    "the wavefunction and then join the vector back, \n",
    "i.e., new_vec = join(dot(blk, vec\\[index with the length of blk\\]))\n",
    "        \n",
    "Note: the sequential version of method (iii) doesn't work well\n",
    "        \n",
    "iv) The kronecker product between two matrices A and B can be obtained by \n",
    "the outer product of A_row with B_row, say, Outer\\[$A_1, B_1$\\] gives the first row of \n",
    "the resulting matrix. So we can compute the outer product in parallel \n",
    "(also calculate the corresponding dot product with the wavefunction at the same time)\n",
    "and gather the resulting dot product, thus eliminating the need to compute the whole \n",
    "large sparse matrix.      \n",
    "\n",
    "v) Simplest one: after evolving around $2 L$ time steps, the wavefunction reaches a steady state.\n",
    "We can use the this wavefunction as an input to multiple nodes using MPI to gather \n",
    "enough data points (embarrassing parallel)"
   ]
  },
  {
   "cell_type": "markdown",
   "metadata": {},
   "source": [
    "#### Import physical parameters and initialize wavefunction "
   ]
  },
  {
   "cell_type": "code",
   "execution_count": null,
   "metadata": {},
   "outputs": [],
   "source": [
    "# reading parameters from file\n",
    "para = open('para_haar.txt', 'r')\n",
    "para = para.readlines()\n",
    "# the paramters are system size, measurement probability and discrete time steps\n",
    "L,  pro, time = int(para[0]), float(para[1]), int(para[2])\n",
    "\n",
    "# system partition\n",
    "# with PBC, we partition system into 4 parts where a and b separated by c1 and c2\n",
    "# c1 and c2 are effectively connected, so the system is composed of A, B and C\n",
    "lc1, la, lb = int(np.floor(L/8)), int(np.floor(L/4)), int(np.floor(L/4))\n",
    "lc2 = L-lc1-la-lb\n",
    "# pack the partition into array\n",
    "part = np.array([L, la, lb, lc1, lc2], dtype=\"int64\")\n",
    "\n",
    "# initializing wavefunctions\n",
    "p1 = np.ones(1)\n",
    "p2 = np.zeros(2**L-1,dtype='c16')\n",
    "# a product state with all spins align up\n",
    "psi = np.concatenate((p1,p2),axis=0).T\n",
    "# Pauli z-matrix\n",
    "sz = sparse.coo_matrix(np.array([[1, 0],[0, -1]]))"
   ]
  },
  {
   "cell_type": "code",
   "execution_count": null,
   "metadata": {},
   "outputs": [],
   "source": [
    "# time evolution consists of random unitaries + projective measurement\n",
    "def evo(steps, wave, prob, L, n, partition):\n",
    "    von=np.zeros(steps, dtype='float64') # von-Neumann entropy\n",
    "    renyi=np.zeros(steps, dtype='float64') # Renyi entropy\n",
    "    neg = np.zeros(steps, dtype='float64') # logarithmic negativity\n",
    "    mut = np.zeros(steps, dtype='float64') # mutual information using von-Neumann entropy\n",
    "    mutr = np.zeros(steps, dtype='float64') # mutual information in terms of Renyi entropy\n",
    "    \n",
    "    for t in range(steps):\n",
    "        # evolve over odd links\n",
    "        for i in range(L//2):\n",
    "            wave = unitary(wave, i, L)     \n",
    "        \n",
    "        # measurement layer\n",
    "        for i in range(L):\n",
    "            wave = measure(wave, prob, i, L)\n",
    "\n",
    "        # before evolve on even link, we need to rearrange indices first to accommodate the boundary condition PBC\n",
    "        wave = np.reshape(wave,(2, 2**(L-2),2))\n",
    "        # move the last site into the first one such that the unitaries can connect the 1st and the last site\n",
    "        wave = np.moveaxis(wave,-1,0)\n",
    "        wave = wave.flatten()\n",
    "        \n",
    "        # evolve over even links\n",
    "        for i in range(L//2):\n",
    "            wave = unitary(wave, i, L)  \n",
    "\n",
    "        #shift the index back to the original order after evolution\n",
    "        wave = np.reshape(wave,(2, 2, 2**(L-2)))\n",
    "        wave = np.moveaxis(wave,-1,0)\n",
    "        wave = np.moveaxis(wave,-1,0).flatten()\n",
    "\n",
    "        #measurement layer\n",
    "        for i in range(L):\n",
    "            wave = measure(wave, prob, i, L)\n",
    "       \n",
    "        result = ent(wave, n, L, L//2)\n",
    "        von = result[0]\n",
    "        ren = result[1]\n",
    "        result = logneg(wave, n, partition)\n",
    "        neg[t] = result[0]\n",
    "        mut[t] = result[1]\n",
    "        mutr[t] = result[2]\n",
    "\n",
    "    return von, ren, neg, neg2, mut, mutr"
   ]
  },
  {
   "cell_type": "code",
   "execution_count": null,
   "metadata": {},
   "outputs": [],
   "source": [
    "res = evo(time, psi, pro, L, 2, part)"
   ]
  }
 ],
 "metadata": {
  "kernelspec": {
   "display_name": "Python 3",
   "language": "python",
   "name": "python3"
  },
  "language_info": {
   "codemirror_mode": {
    "name": "ipython",
    "version": 3
   },
   "file_extension": ".py",
   "mimetype": "text/x-python",
   "name": "python",
   "nbconvert_exporter": "python",
   "pygments_lexer": "ipython3",
   "version": "3.7.5"
  }
 },
 "nbformat": 4,
 "nbformat_minor": 4
}
